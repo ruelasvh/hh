{
 "cells": [
  {
   "cell_type": "code",
   "execution_count": 1,
   "metadata": {},
   "outputs": [],
   "source": [
    "import numpy as np"
   ]
  },
  {
   "cell_type": "markdown",
   "metadata": {},
   "source": [
    "$X_{HH} = \\sqrt{\n",
    "    ((m_{H1} - 124\\textrm{ GeV}) / 0.1 * m_{H1})^2 + ((m_{H2} - 117\\textrm{ GeV}) / 0.1 * m_{H2})^2\n",
    "}\n",
    "$\n",
    "\n",
    "$1.6^2 = (10 - 1240 \\cdot x_{ur}^{-1})^2 + (10 - 1170 \\cdot y_{ur}^{-1})^2$\n",
    "\n",
    "$y_{ur} = x_{ur} - 7$\n",
    "\n",
    "substitute $y_{ur}$ into the second equation\n",
    "\n",
    "$1.6^2 = (10 - 1240 \\cdot x_{ur}^{-1})^2 + (10 - 1170 \\cdot (x_{up} - 7)^{-1})^2$\n",
    "\n",
    "solve for $x$\n",
    "\n",
    "$x_{ur} = 139.35$, $y_{ur} = 132.35$\n",
    "\n",
    "$x_{dl} = 111.77$, $y_{dl} = 104.77$\n",
    "\n",
    "now for the upper left and lower right corners\n",
    "\n",
    "$1.6^2 = (10 - 1240 \\cdot x_{ul}^{-1})^2 + (10 - 1170 \\cdot y_{ul}^{-1})^2$\n",
    "\n",
    "$y_{ul} = -x_{ul} + 241$\n",
    "\n",
    "$1.6^2 = (10 - 1240 \\cdot x_{ul}^{-1})^2 + (10 - 1170 \\cdot (-x_{ul} + 241)^{-1})^2$\n",
    "\n",
    "$x_{ul} = 110.51$, $y_{ul} = 130.05$\n",
    "\n",
    "$x_{dr} = 137.24$, $y_{dr} = 103.76$\n"
   ]
  },
  {
   "cell_type": "code",
   "execution_count": 3,
   "metadata": {},
   "outputs": [],
   "source": [
    "sig = lambda x, y, x_center=124, y_center=117, x_res=0.1, y_res=0.1: np.sqrt(\n",
    "        ((x - x_center) / (x_res * x)) ** 2 + ((y - y_center) / (y_res * y)) ** 2\n",
    "    )"
   ]
  },
  {
   "cell_type": "markdown",
   "metadata": {},
   "source": [
    "$R_{CR} = \\sqrt{\n",
    "    (m_{H1} - 1.05 * 124\\textrm{ GeV})^2 + (m_{H2} - 1.05 * 117\\textrm{ GeV})^2\n",
    "}\n",
    "$\n",
    "\n",
    "$45 = \\sqrt{(x_{ur} - 1.05 \\cdot 124)^2 + (y_{ur} - 1.05 \\cdot 117)^2}$\n",
    "\n",
    "$45^2 = (x_{ur} - 1.05 \\cdot 124)^2 + (x_{ur} - 7 - 1.05 \\cdot 117)^2$\n",
    "\n",
    "$x_{ur} = \\frac{1}{40}(5201 + \\sqrt{1619951}) = 161.84$\n",
    "\n",
    "$x_{dl} = \\frac{1}{40}(5201 - \\sqrt{1619951}) = 98.21$\n",
    "\n",
    "$y_{ur} = 161.84 - 7 = 154.84$\n",
    "\n",
    "$y_{dl} = 98.21 - 7 = 91.21$\n",
    "\n",
    "$x_{ul} = 92.93$, $y_{ul} = 148.07$, $x_{dr} = 155.42$, $y_{dr} = 85.58$"
   ]
  },
  {
   "cell_type": "code",
   "execution_count": 4,
   "metadata": {},
   "outputs": [],
   "source": [
    "ctr = lambda x, y, x_center=124, y_center=117, x_res=1.05, y_res=1.05: np.sqrt((x - x_res * x_center) ** 2 + (y - y_res * y_center) ** 2)"
   ]
  }
 ],
 "metadata": {
  "kernelspec": {
   "display_name": "Python 3",
   "language": "python",
   "name": "python3"
  },
  "language_info": {
   "codemirror_mode": {
    "name": "ipython",
    "version": 3
   },
   "file_extension": ".py",
   "mimetype": "text/x-python",
   "name": "python",
   "nbconvert_exporter": "python",
   "pygments_lexer": "ipython3",
   "version": "3.9.6"
  }
 },
 "nbformat": 4,
 "nbformat_minor": 2
}
